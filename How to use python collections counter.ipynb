{
 "cells": [
  {
   "cell_type": "markdown",
   "id": "vocational-denver",
   "metadata": {},
   "source": [
    "# Pyhton Counter"
   ]
  },
  {
   "cell_type": "markdown",
   "id": "surprised-increase",
   "metadata": {},
   "source": [
    "## Method 1: Creating a Counter object using the list"
   ]
  },
  {
   "cell_type": "code",
   "execution_count": 1,
   "id": "neither-tomorrow",
   "metadata": {},
   "outputs": [],
   "source": [
    "# The python counter is  a part of the dict class and it always tracks the frequency of the every elements\n",
    "# inside of that dict. Below we just creating a simple example to understand this concept.\n",
    "\n",
    "import collections\n"
   ]
  },
  {
   "cell_type": "code",
   "execution_count": 2,
   "id": "difficult-bench",
   "metadata": {},
   "outputs": [],
   "source": [
    "count = collections.Counter(['a','b','c','a','b','a','c','c','d','f'])"
   ]
  },
  {
   "cell_type": "code",
   "execution_count": 3,
   "id": "parental-sucking",
   "metadata": {},
   "outputs": [
    {
     "name": "stdout",
     "output_type": "stream",
     "text": [
      "Counter({'a': 3, 'c': 3, 'b': 2, 'd': 1, 'f': 1})\n"
     ]
    }
   ],
   "source": [
    "print(count)"
   ]
  },
  {
   "cell_type": "code",
   "execution_count": null,
   "id": "medical-population",
   "metadata": {},
   "outputs": [],
   "source": []
  },
  {
   "cell_type": "markdown",
   "id": "interstate-healing",
   "metadata": {},
   "source": [
    "## Method 2: Creating a Counter object using the tuple"
   ]
  },
  {
   "cell_type": "code",
   "execution_count": 4,
   "id": "unknown-characteristic",
   "metadata": {},
   "outputs": [],
   "source": [
    "count_tup = collections.Counter(('a','b','c','a','b','a','c','c','d','f'))"
   ]
  },
  {
   "cell_type": "code",
   "execution_count": 5,
   "id": "short-gentleman",
   "metadata": {},
   "outputs": [
    {
     "name": "stdout",
     "output_type": "stream",
     "text": [
      "Counter({'a': 3, 'c': 3, 'b': 2, 'd': 1, 'f': 1})\n"
     ]
    }
   ],
   "source": [
    "print(count_tup)"
   ]
  },
  {
   "cell_type": "code",
   "execution_count": null,
   "id": "animal-lingerie",
   "metadata": {},
   "outputs": [],
   "source": []
  },
  {
   "cell_type": "markdown",
   "id": "tested-nebraska",
   "metadata": {},
   "source": [
    "## Method 3: Creating a Counter object using the string literal"
   ]
  },
  {
   "cell_type": "code",
   "execution_count": 6,
   "id": "angry-cincinnati",
   "metadata": {},
   "outputs": [],
   "source": [
    "count_str = collections.Counter((\"linuxhint\"))"
   ]
  },
  {
   "cell_type": "code",
   "execution_count": 7,
   "id": "formed-telephone",
   "metadata": {},
   "outputs": [
    {
     "name": "stdout",
     "output_type": "stream",
     "text": [
      "Counter({'i': 2, 'n': 2, 'l': 1, 'u': 1, 'x': 1, 'h': 1, 't': 1})\n"
     ]
    }
   ],
   "source": [
    "print(count_str)"
   ]
  },
  {
   "cell_type": "code",
   "execution_count": null,
   "id": "viral-shaft",
   "metadata": {},
   "outputs": [],
   "source": []
  },
  {
   "cell_type": "markdown",
   "id": "raising-challenge",
   "metadata": {},
   "source": [
    "## Method 4: Creating a Counter object using the string words list"
   ]
  },
  {
   "cell_type": "code",
   "execution_count": 8,
   "id": "signed-agriculture",
   "metadata": {},
   "outputs": [],
   "source": [
    "counterWords_list = ['Cat', 'Dog', 'Horse', 'Dog','Cat','Hen','Horse','Cat']"
   ]
  },
  {
   "cell_type": "code",
   "execution_count": 9,
   "id": "united-shopping",
   "metadata": {},
   "outputs": [],
   "source": [
    "count_words = collections.Counter((counterWords_list))"
   ]
  },
  {
   "cell_type": "code",
   "execution_count": 10,
   "id": "naval-study",
   "metadata": {},
   "outputs": [
    {
     "name": "stdout",
     "output_type": "stream",
     "text": [
      "Counter({'Cat': 3, 'Dog': 2, 'Horse': 2, 'Hen': 1})\n"
     ]
    }
   ],
   "source": [
    "print(count_words)"
   ]
  },
  {
   "cell_type": "code",
   "execution_count": null,
   "id": "irish-dakota",
   "metadata": {},
   "outputs": [],
   "source": []
  },
  {
   "cell_type": "markdown",
   "id": "serial-rugby",
   "metadata": {},
   "source": [
    "## Method 5: Creating a Counter object using the dict"
   ]
  },
  {
   "cell_type": "code",
   "execution_count": 11,
   "id": "sudden-cornell",
   "metadata": {},
   "outputs": [],
   "source": [
    "# The Counter function will try to find the count of each of the key in the given dictionary.\n",
    "count_dict = collections.Counter({'x': 4, 'y': 2, 'z': 2, 'z': 2,'z':7})"
   ]
  },
  {
   "cell_type": "code",
   "execution_count": 12,
   "id": "advance-swiss",
   "metadata": {
    "scrolled": true
   },
   "outputs": [
    {
     "name": "stdout",
     "output_type": "stream",
     "text": [
      "Counter({'z': 7, 'x': 4, 'y': 2})\n"
     ]
    }
   ],
   "source": [
    "print(count_dict)"
   ]
  },
  {
   "cell_type": "code",
   "execution_count": null,
   "id": "interstate-constant",
   "metadata": {},
   "outputs": [],
   "source": []
  },
  {
   "cell_type": "code",
   "execution_count": null,
   "id": "aware-liechtenstein",
   "metadata": {},
   "outputs": [],
   "source": []
  },
  {
   "cell_type": "markdown",
   "id": "infectious-simple",
   "metadata": {},
   "source": [
    "## Update Counter object"
   ]
  },
  {
   "cell_type": "code",
   "execution_count": 13,
   "id": "sharp-horizontal",
   "metadata": {},
   "outputs": [],
   "source": [
    "# We can also create an empty counter object and later we can add elements on it.\n",
    "\n",
    "counterUpdate = collections.Counter()"
   ]
  },
  {
   "cell_type": "code",
   "execution_count": 14,
   "id": "elect-bouquet",
   "metadata": {},
   "outputs": [
    {
     "name": "stdout",
     "output_type": "stream",
     "text": [
      "Counter()\n"
     ]
    }
   ],
   "source": [
    "#print the empty counter\n",
    "print(counterUpdate)"
   ]
  },
  {
   "cell_type": "code",
   "execution_count": 15,
   "id": "broadband-seminar",
   "metadata": {},
   "outputs": [],
   "source": [
    "# Adding elements on the empty counter\n",
    "counterUpdate.update(['a','a','b'])"
   ]
  },
  {
   "cell_type": "code",
   "execution_count": 16,
   "id": "wireless-spyware",
   "metadata": {},
   "outputs": [
    {
     "name": "stdout",
     "output_type": "stream",
     "text": [
      "Counter({'a': 2, 'b': 1})\n"
     ]
    }
   ],
   "source": [
    "print(counterUpdate)"
   ]
  },
  {
   "cell_type": "code",
   "execution_count": 17,
   "id": "lesser-irrigation",
   "metadata": {},
   "outputs": [],
   "source": [
    "# We can add more items on the previous\n",
    "\n",
    "counterUpdate.update('abc')"
   ]
  },
  {
   "cell_type": "code",
   "execution_count": 18,
   "id": "incoming-rotation",
   "metadata": {},
   "outputs": [
    {
     "name": "stdout",
     "output_type": "stream",
     "text": [
      "Counter({'a': 3, 'b': 2, 'c': 1})\n"
     ]
    }
   ],
   "source": [
    "print(counterUpdate)"
   ]
  },
  {
   "cell_type": "code",
   "execution_count": null,
   "id": "daily-alpha",
   "metadata": {},
   "outputs": [],
   "source": []
  },
  {
   "cell_type": "markdown",
   "id": "occasional-geography",
   "metadata": {},
   "source": [
    "## Accessing Count of Elements\n"
   ]
  },
  {
   "cell_type": "code",
   "execution_count": 19,
   "id": "solid-debate",
   "metadata": {},
   "outputs": [],
   "source": [
    "# created a counter object with a dict\n",
    "counter_count = collections.Counter({'Dog': 2, 'Cat': 1, 'Horse': 1,\"Lion\":5})\n"
   ]
  },
  {
   "cell_type": "code",
   "execution_count": 20,
   "id": "amino-pixel",
   "metadata": {},
   "outputs": [
    {
     "name": "stdout",
     "output_type": "stream",
     "text": [
      "Counter({'Lion': 5, 'Dog': 2, 'Cat': 1, 'Horse': 1})\n"
     ]
    }
   ],
   "source": [
    "print(counter_count)"
   ]
  },
  {
   "cell_type": "code",
   "execution_count": 21,
   "id": "fluid-pantyhose",
   "metadata": {},
   "outputs": [
    {
     "name": "stdout",
     "output_type": "stream",
     "text": [
      "2\n"
     ]
    }
   ],
   "source": [
    "# Acccessing the elements\n",
    "\n",
    "print(counter_count['Dog'])"
   ]
  },
  {
   "cell_type": "code",
   "execution_count": 22,
   "id": "gentle-devil",
   "metadata": {},
   "outputs": [
    {
     "name": "stdout",
     "output_type": "stream",
     "text": [
      "0\n"
     ]
    }
   ],
   "source": [
    "# If we try to access not existing elements, then it will return 0 not throw exception\n",
    "\n",
    "print(counter_count['Rabbit'])"
   ]
  },
  {
   "cell_type": "code",
   "execution_count": null,
   "id": "animal-salvation",
   "metadata": {},
   "outputs": [],
   "source": []
  },
  {
   "cell_type": "markdown",
   "id": "negative-proxy",
   "metadata": {},
   "source": [
    "## Updating or Setting the count value of the element"
   ]
  },
  {
   "cell_type": "code",
   "execution_count": 23,
   "id": "behavioral-relationship",
   "metadata": {},
   "outputs": [],
   "source": [
    "# We can also set the count value to something else, if exist like we doing update the value\n",
    "\n",
    "# created a counter object with a dict\n",
    "counter_count = collections.Counter({'Dog': 2, 'Cat': 1, 'Horse': 1,\"Lion\":5})"
   ]
  },
  {
   "cell_type": "code",
   "execution_count": 24,
   "id": "innovative-shuttle",
   "metadata": {},
   "outputs": [
    {
     "name": "stdout",
     "output_type": "stream",
     "text": [
      "Counter({'Lion': 5, 'Dog': 2, 'Cat': 1, 'Horse': 1})\n"
     ]
    }
   ],
   "source": [
    "print(counter_count)"
   ]
  },
  {
   "cell_type": "code",
   "execution_count": 25,
   "id": "developing-effects",
   "metadata": {},
   "outputs": [
    {
     "name": "stdout",
     "output_type": "stream",
     "text": [
      "2\n"
     ]
    }
   ],
   "source": [
    "# Acccessing the elements\n",
    "\n",
    "print(counter_count['Dog'])"
   ]
  },
  {
   "cell_type": "code",
   "execution_count": 26,
   "id": "weird-instrument",
   "metadata": {},
   "outputs": [],
   "source": [
    "# setting the value of Dog to 0\n",
    "counter_count['Dog'] = 0"
   ]
  },
  {
   "cell_type": "code",
   "execution_count": 27,
   "id": "musical-breed",
   "metadata": {},
   "outputs": [
    {
     "name": "stdout",
     "output_type": "stream",
     "text": [
      "Counter({'Lion': 5, 'Cat': 1, 'Horse': 1, 'Dog': 0})\n"
     ]
    }
   ],
   "source": [
    "print(counter_count)"
   ]
  },
  {
   "cell_type": "code",
   "execution_count": 28,
   "id": "diagnostic-china",
   "metadata": {},
   "outputs": [
    {
     "name": "stdout",
     "output_type": "stream",
     "text": [
      "0\n"
     ]
    }
   ],
   "source": [
    "# Acccessing the elements\n",
    "\n",
    "print(counter_count['Dog'])"
   ]
  },
  {
   "cell_type": "code",
   "execution_count": 29,
   "id": "interior-awareness",
   "metadata": {},
   "outputs": [],
   "source": [
    "# Adding non existing key value\n",
    "\n",
    "counter_count['Rabbit'] = 1"
   ]
  },
  {
   "cell_type": "code",
   "execution_count": 30,
   "id": "laden-seafood",
   "metadata": {},
   "outputs": [
    {
     "name": "stdout",
     "output_type": "stream",
     "text": [
      "Counter({'Lion': 5, 'Cat': 1, 'Horse': 1, 'Rabbit': 1, 'Dog': 0})\n"
     ]
    }
   ],
   "source": [
    "print(counter_count)"
   ]
  },
  {
   "cell_type": "code",
   "execution_count": null,
   "id": "disturbed-buffer",
   "metadata": {},
   "outputs": [],
   "source": []
  },
  {
   "cell_type": "markdown",
   "id": "comfortable-samba",
   "metadata": {},
   "source": [
    "## Deleting an Element from Counter"
   ]
  },
  {
   "cell_type": "code",
   "execution_count": 31,
   "id": "verbal-unemployment",
   "metadata": {},
   "outputs": [],
   "source": [
    "# created a counter object with a dict\n",
    "counter_count = collections.Counter({'Dog': 2, 'Cat': 1, 'Horse': 1,\"Lion\":5})"
   ]
  },
  {
   "cell_type": "code",
   "execution_count": 32,
   "id": "affecting-cookbook",
   "metadata": {},
   "outputs": [
    {
     "name": "stdout",
     "output_type": "stream",
     "text": [
      "Counter({'Lion': 5, 'Dog': 2, 'Cat': 1, 'Horse': 1})\n"
     ]
    }
   ],
   "source": [
    "print(counter_count)"
   ]
  },
  {
   "cell_type": "code",
   "execution_count": 33,
   "id": "played-diary",
   "metadata": {},
   "outputs": [],
   "source": [
    "# deleting a element Lion from the dict\n",
    "del counter_count['Lion']"
   ]
  },
  {
   "cell_type": "code",
   "execution_count": 34,
   "id": "alike-disposition",
   "metadata": {},
   "outputs": [
    {
     "name": "stdout",
     "output_type": "stream",
     "text": [
      "Counter({'Dog': 2, 'Cat': 1, 'Horse': 1})\n"
     ]
    }
   ],
   "source": [
    "print(counter_count)"
   ]
  },
  {
   "cell_type": "code",
   "execution_count": null,
   "id": "retired-relay",
   "metadata": {},
   "outputs": [],
   "source": []
  },
  {
   "cell_type": "markdown",
   "id": "modified-failing",
   "metadata": {},
   "source": [
    "# Arithmetic Operations"
   ]
  },
  {
   "cell_type": "code",
   "execution_count": 35,
   "id": "visible-gates",
   "metadata": {},
   "outputs": [],
   "source": [
    "# we are creating two counter objects to apply arithmetic operations\n",
    "\n",
    "counter_1 =  collections.Counter({'a': 4, 'b': 8, 'c': -8})\n",
    "\n",
    "counter_2 = collections.Counter({'a': -12, 'b': 5, 'c':4 })"
   ]
  },
  {
   "cell_type": "code",
   "execution_count": 36,
   "id": "virtual-subcommittee",
   "metadata": {},
   "outputs": [
    {
     "name": "stdout",
     "output_type": "stream",
     "text": [
      "Counter({'b': 13})\n"
     ]
    }
   ],
   "source": [
    "# Addition operations return elements having +ve count only\n",
    "\n",
    "counter_add = counter_1 + counter_2\n",
    "\n",
    "print(counter_add)"
   ]
  },
  {
   "cell_type": "code",
   "execution_count": 37,
   "id": "significant-mexican",
   "metadata": {},
   "outputs": [
    {
     "name": "stdout",
     "output_type": "stream",
     "text": [
      "Counter({'a': 16, 'b': 3})\n"
     ]
    }
   ],
   "source": [
    "# Subtraction operations return elements having +ve count only\n",
    "\n",
    "counter_sub = counter_1 - counter_2\n",
    "\n",
    "print(counter_sub)"
   ]
  },
  {
   "cell_type": "code",
   "execution_count": 38,
   "id": "imposed-banner",
   "metadata": {},
   "outputs": [
    {
     "name": "stdout",
     "output_type": "stream",
     "text": [
      "Counter({'b': 5})\n"
     ]
    }
   ],
   "source": [
    "# Intersection will select only those items first positive and then choose minimum between them\n",
    "counter_intersection = counter_1 & counter_2\n",
    "\n",
    "print(counter_intersection)"
   ]
  },
  {
   "cell_type": "code",
   "execution_count": 39,
   "id": "serious-portable",
   "metadata": {},
   "outputs": [
    {
     "name": "stdout",
     "output_type": "stream",
     "text": [
      "Counter({'b': 8, 'a': 4, 'c': 4})\n"
     ]
    }
   ],
   "source": [
    "# Union will select maximum between them\n",
    "counter_union = counter_1 | counter_2\n",
    "\n",
    "print(counter_union)"
   ]
  },
  {
   "cell_type": "code",
   "execution_count": null,
   "id": "junior-brain",
   "metadata": {},
   "outputs": [],
   "source": []
  },
  {
   "cell_type": "markdown",
   "id": "editorial-substance",
   "metadata": {},
   "source": [
    "## The elements() Method"
   ]
  },
  {
   "cell_type": "code",
   "execution_count": 40,
   "id": "hearing-reduction",
   "metadata": {},
   "outputs": [],
   "source": [
    "# The elements() method will return the list of elemtents in the counter but only positive or greater then 0\n",
    "\n",
    "counter_elements = collections.Counter({'Cat': -1,'Zebra': 3,'Elephanr':1, 'Horse': 0,'Dog': 2})"
   ]
  },
  {
   "cell_type": "code",
   "execution_count": 41,
   "id": "pursuant-extension",
   "metadata": {},
   "outputs": [
    {
     "name": "stdout",
     "output_type": "stream",
     "text": [
      "<itertools.chain object at 0x7f8d14634bb0>\n"
     ]
    }
   ],
   "source": [
    "print(counter_elements.elements())"
   ]
  },
  {
   "cell_type": "code",
   "execution_count": 42,
   "id": "political-tension",
   "metadata": {},
   "outputs": [
    {
     "name": "stdout",
     "output_type": "stream",
     "text": [
      "['Zebra', 'Zebra', 'Zebra', 'Elephanr', 'Dog', 'Dog']\n"
     ]
    }
   ],
   "source": [
    "print(list(counter_elements.elements()))"
   ]
  },
  {
   "cell_type": "code",
   "execution_count": null,
   "id": "other-nepal",
   "metadata": {},
   "outputs": [],
   "source": []
  },
  {
   "cell_type": "markdown",
   "id": "smaller-correlation",
   "metadata": {},
   "source": [
    "# Accessing the Most Common Values"
   ]
  },
  {
   "cell_type": "code",
   "execution_count": 43,
   "id": "stone-tribune",
   "metadata": {},
   "outputs": [],
   "source": [
    "# The most commom values help us to retrieve the high frequnecy item from the counter"
   ]
  },
  {
   "cell_type": "code",
   "execution_count": 44,
   "id": "nominated-technique",
   "metadata": {},
   "outputs": [],
   "source": [
    "# create a counter object\n",
    "counter_elements = collections.Counter({'Cat': -1,'Zebra': 3,'Elephanr':1, 'Horse': 0,'Dog': 2})"
   ]
  },
  {
   "cell_type": "code",
   "execution_count": 45,
   "id": "environmental-switzerland",
   "metadata": {},
   "outputs": [
    {
     "name": "stdout",
     "output_type": "stream",
     "text": [
      "Counter({'Zebra': 3, 'Dog': 2, 'Elephanr': 1, 'Horse': 0, 'Cat': -1})\n"
     ]
    }
   ],
   "source": [
    "print(counter_elements)"
   ]
  },
  {
   "cell_type": "code",
   "execution_count": 46,
   "id": "worst-smile",
   "metadata": {},
   "outputs": [
    {
     "name": "stdout",
     "output_type": "stream",
     "text": [
      "[('Zebra', 3), ('Dog', 2), ('Elephanr', 1), ('Horse', 0), ('Cat', -1)]\n"
     ]
    }
   ],
   "source": [
    "# use the most common function print all the items in decreasing order\n",
    "print(counter_elements.most_common())"
   ]
  },
  {
   "cell_type": "code",
   "execution_count": 47,
   "id": "pressed-frank",
   "metadata": {},
   "outputs": [
    {
     "name": "stdout",
     "output_type": "stream",
     "text": [
      "[('Zebra', 3)]\n"
     ]
    }
   ],
   "source": [
    "# We can pass some arguments into most_common() method to get results like\n",
    "print(counter_elements.most_common(1))"
   ]
  },
  {
   "cell_type": "code",
   "execution_count": 48,
   "id": "recovered-chair",
   "metadata": {},
   "outputs": [
    {
     "name": "stdout",
     "output_type": "stream",
     "text": [
      "[('Zebra', 3), ('Dog', 2), ('Elephanr', 1)]\n"
     ]
    }
   ],
   "source": [
    "print(counter_elements.most_common(3))"
   ]
  },
  {
   "cell_type": "code",
   "execution_count": 49,
   "id": "excited-advice",
   "metadata": {},
   "outputs": [
    {
     "name": "stdout",
     "output_type": "stream",
     "text": [
      "[('Cat', -1), ('Horse', 0), ('Elephanr', 1)]\n"
     ]
    }
   ],
   "source": [
    "# we can also use the n filter method like\n",
    "# most_common()[:-n:-1]\n",
    "# to get at least n elements\n",
    "print(counter_elements.most_common()[:-4:-1])"
   ]
  },
  {
   "cell_type": "code",
   "execution_count": null,
   "id": "cubic-messenger",
   "metadata": {},
   "outputs": [],
   "source": []
  },
  {
   "cell_type": "markdown",
   "id": "atlantic-mixer",
   "metadata": {},
   "source": [
    "## Subtract method"
   ]
  },
  {
   "cell_type": "code",
   "execution_count": 57,
   "id": "dress-nancy",
   "metadata": {},
   "outputs": [],
   "source": [
    "# The subtract method is used to subtract counter from another counter object."
   ]
  },
  {
   "cell_type": "code",
   "execution_count": 58,
   "id": "expired-bahamas",
   "metadata": {},
   "outputs": [],
   "source": [
    "subCounter = collections.Counter('ababab')"
   ]
  },
  {
   "cell_type": "code",
   "execution_count": 59,
   "id": "distinct-packing",
   "metadata": {},
   "outputs": [
    {
     "name": "stdout",
     "output_type": "stream",
     "text": [
      "Counter({'a': 3, 'b': 3})\n"
     ]
    }
   ],
   "source": [
    "print(subCounter)"
   ]
  },
  {
   "cell_type": "code",
   "execution_count": 60,
   "id": "unlike-disabled",
   "metadata": {},
   "outputs": [],
   "source": [
    "# Creating another counter object\n",
    "\n",
    "a = collections.Counter(\"a\")"
   ]
  },
  {
   "cell_type": "code",
   "execution_count": 61,
   "id": "dramatic-primary",
   "metadata": {},
   "outputs": [
    {
     "name": "stdout",
     "output_type": "stream",
     "text": [
      "Counter({'a': 1})\n"
     ]
    }
   ],
   "source": [
    "print(a)"
   ]
  },
  {
   "cell_type": "code",
   "execution_count": 62,
   "id": "bright-equipment",
   "metadata": {},
   "outputs": [],
   "source": [
    "# Subtracting the value of a from subCounter\n",
    "\n",
    "subCounter.subtract(a)\n"
   ]
  },
  {
   "cell_type": "code",
   "execution_count": 63,
   "id": "miniature-tackle",
   "metadata": {},
   "outputs": [
    {
     "name": "stdout",
     "output_type": "stream",
     "text": [
      "Counter({'b': 3, 'a': 2})\n"
     ]
    }
   ],
   "source": [
    "print(subCounter)"
   ]
  },
  {
   "cell_type": "code",
   "execution_count": null,
   "id": "recovered-storm",
   "metadata": {},
   "outputs": [],
   "source": []
  },
  {
   "cell_type": "markdown",
   "id": "settled-electricity",
   "metadata": {},
   "source": [
    "## Remove negative or zero from the counter "
   ]
  },
  {
   "cell_type": "code",
   "execution_count": 68,
   "id": "sexual-durham",
   "metadata": {},
   "outputs": [],
   "source": [
    "# we creating a counter object with some positive, negative or zero count values\n",
    "counterFilter = collections.Counter(c=2, d=3, e=-1, f=0)\n"
   ]
  },
  {
   "cell_type": "code",
   "execution_count": 69,
   "id": "proof-watershed",
   "metadata": {},
   "outputs": [],
   "source": [
    "# Applying method to filter the positive elements counts only\n",
    "counterFilter = +counterFilter\n"
   ]
  },
  {
   "cell_type": "code",
   "execution_count": 70,
   "id": "ruled-injection",
   "metadata": {},
   "outputs": [
    {
     "name": "stdout",
     "output_type": "stream",
     "text": [
      "Counter({'d': 3, 'c': 2})\n"
     ]
    }
   ],
   "source": [
    "print(counterFilter)"
   ]
  },
  {
   "cell_type": "code",
   "execution_count": null,
   "id": "interracial-bristol",
   "metadata": {},
   "outputs": [],
   "source": []
  }
 ],
 "metadata": {
  "kernelspec": {
   "display_name": "cv",
   "language": "python",
   "name": "cv"
  },
  "language_info": {
   "codemirror_mode": {
    "name": "ipython",
    "version": 3
   },
   "file_extension": ".py",
   "mimetype": "text/x-python",
   "name": "python",
   "nbconvert_exporter": "python",
   "pygments_lexer": "ipython3",
   "version": "3.8.10"
  }
 },
 "nbformat": 4,
 "nbformat_minor": 5
}
